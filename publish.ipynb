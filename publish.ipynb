{
 "cells": [
  {
   "cell_type": "markdown",
   "metadata": {},
   "source": [
    "Let's Load Package"
   ]
  },
  {
   "cell_type": "code",
   "execution_count": 1,
   "metadata": {},
   "outputs": [],
   "source": [
    "import numpy as np\n",
    "import pandas as pd\n",
    "import matplotlib.pylab as plt\n",
    "import os"
   ]
  },
  {
   "cell_type": "code",
   "execution_count": 2,
   "metadata": {},
   "outputs": [
    {
     "data": {
      "text/plain": [
       "((1460, 81), (1459, 80))"
      ]
     },
     "execution_count": 2,
     "metadata": {},
     "output_type": "execute_result"
    }
   ],
   "source": [
    "train = pd.read_csv('input/train.csv')\n",
    "test = pd.read_csv('input/test.csv')\n",
    "\n",
    "train.shape,test.shape"
   ]
  },
  {
   "cell_type": "markdown",
   "metadata": {},
   "source": [
    "## Let's see all basement releated information and find outlier"
   ]
  },
  {
   "cell_type": "markdown",
   "metadata": {},
   "source": [
    "Here, is the description of the basement related columns"
   ]
  },
  {
   "cell_type": "markdown",
   "metadata": {},
   "source": [
    "BsmtQual: Evaluates the height of the basement\n",
    "\t\n",
    "BsmtCond: Evaluates the general condition of the basement\n",
    "\t\n",
    "BsmtExposure: Refers to walkout or garden level walls\n",
    "\t\n",
    "BsmtFinType1: Rating of basement finished area\n",
    "\t\t\n",
    "BsmtFinSF1: Type 1 finished square feet\n",
    "\n",
    "BsmtFinType2: Rating of basement finished area (if multiple types)\n",
    "\n",
    "BsmtFinSF2: Type 2 finished square feet\n",
    "\n",
    "BsmtUnfSF: Unfinished square feet of basement area\n",
    "\n",
    "TotalBsmtSF: Total square feet of basement area"
   ]
  },
  {
   "cell_type": "code",
   "execution_count": 3,
   "metadata": {},
   "outputs": [],
   "source": [
    "basement_columns = ['BsmtQual', 'BsmtCond', 'BsmtExposure', 'BsmtFinType1', 'BsmtFinSF1',\n",
    "                    'BsmtFinType2', 'BsmtFinSF2', 'BsmtUnfSF', 'TotalBsmtSF']"
   ]
  },
  {
   "cell_type": "code",
   "execution_count": 4,
   "metadata": {},
   "outputs": [],
   "source": [
    "basement_missing_df = pd.DataFrame(columns=['train','test'], index=basement_columns)"
   ]
  },
  {
   "cell_type": "code",
   "execution_count": 5,
   "metadata": {},
   "outputs": [],
   "source": [
    "for e in basement_columns:\n",
    "    basement_missing_df.loc[e]['train'] = train[e].isna().sum()\n",
    "    basement_missing_df.loc[e]['test'] = test[e].isna().sum()"
   ]
  },
  {
   "cell_type": "code",
   "execution_count": 6,
   "metadata": {},
   "outputs": [
    {
     "data": {
      "text/html": [
       "<div>\n",
       "<style scoped>\n",
       "    .dataframe tbody tr th:only-of-type {\n",
       "        vertical-align: middle;\n",
       "    }\n",
       "\n",
       "    .dataframe tbody tr th {\n",
       "        vertical-align: top;\n",
       "    }\n",
       "\n",
       "    .dataframe thead th {\n",
       "        text-align: right;\n",
       "    }\n",
       "</style>\n",
       "<table border=\"1\" class=\"dataframe\">\n",
       "  <thead>\n",
       "    <tr style=\"text-align: right;\">\n",
       "      <th></th>\n",
       "      <th>train</th>\n",
       "      <th>test</th>\n",
       "    </tr>\n",
       "  </thead>\n",
       "  <tbody>\n",
       "    <tr>\n",
       "      <th>BsmtQual</th>\n",
       "      <td>37</td>\n",
       "      <td>44</td>\n",
       "    </tr>\n",
       "    <tr>\n",
       "      <th>BsmtCond</th>\n",
       "      <td>37</td>\n",
       "      <td>45</td>\n",
       "    </tr>\n",
       "    <tr>\n",
       "      <th>BsmtExposure</th>\n",
       "      <td>38</td>\n",
       "      <td>44</td>\n",
       "    </tr>\n",
       "    <tr>\n",
       "      <th>BsmtFinType1</th>\n",
       "      <td>37</td>\n",
       "      <td>42</td>\n",
       "    </tr>\n",
       "    <tr>\n",
       "      <th>BsmtFinSF1</th>\n",
       "      <td>0</td>\n",
       "      <td>1</td>\n",
       "    </tr>\n",
       "    <tr>\n",
       "      <th>BsmtFinType2</th>\n",
       "      <td>38</td>\n",
       "      <td>42</td>\n",
       "    </tr>\n",
       "    <tr>\n",
       "      <th>BsmtFinSF2</th>\n",
       "      <td>0</td>\n",
       "      <td>1</td>\n",
       "    </tr>\n",
       "    <tr>\n",
       "      <th>BsmtUnfSF</th>\n",
       "      <td>0</td>\n",
       "      <td>1</td>\n",
       "    </tr>\n",
       "    <tr>\n",
       "      <th>TotalBsmtSF</th>\n",
       "      <td>0</td>\n",
       "      <td>1</td>\n",
       "    </tr>\n",
       "  </tbody>\n",
       "</table>\n",
       "</div>"
      ],
      "text/plain": [
       "             train test\n",
       "BsmtQual        37   44\n",
       "BsmtCond        37   45\n",
       "BsmtExposure    38   44\n",
       "BsmtFinType1    37   42\n",
       "BsmtFinSF1       0    1\n",
       "BsmtFinType2    38   42\n",
       "BsmtFinSF2       0    1\n",
       "BsmtUnfSF        0    1\n",
       "TotalBsmtSF      0    1"
      ]
     },
     "execution_count": 6,
     "metadata": {},
     "output_type": "execute_result"
    }
   ],
   "source": [
    "basement_missing_df"
   ]
  },
  {
   "cell_type": "markdown",
   "metadata": {},
   "source": [
    "## Analysis"
   ]
  },
  {
   "cell_type": "markdown",
   "metadata": {},
   "source": [
    "As described in data description file, these ['BsmtQual', 'BsmtCond', 'BsmtExposure', 'BsmtFinType1','BsmtFinType2'] columns contain NA values which indicate No Basement.\n",
    "\n",
    "NA  --> No Basement"
   ]
  },
  {
   "cell_type": "markdown",
   "metadata": {},
   "source": [
    "let's see the missing value (or NA value) of column BsmtQual and BsmtCond."
   ]
  },
  {
   "cell_type": "code",
   "execution_count": 7,
   "metadata": {},
   "outputs": [
    {
     "name": "stdout",
     "output_type": "stream",
     "text": [
      "train: \n",
      " TA    649\n",
      "Gd    618\n",
      "Ex    121\n",
      "Fa     35\n",
      "Name: BsmtQual, dtype: int64\n",
      "\n",
      "test: \n",
      " TA    634\n",
      "Gd    591\n",
      "Ex    137\n",
      "Fa     53\n",
      "Name: BsmtQual, dtype: int64\n"
     ]
    }
   ],
   "source": [
    "print(\"train: \\n\",train['BsmtQual'].value_counts())\n",
    "print(\"\\ntest: \\n\", test['BsmtQual'].value_counts())"
   ]
  },
  {
   "cell_type": "code",
   "execution_count": 8,
   "metadata": {},
   "outputs": [
    {
     "name": "stdout",
     "output_type": "stream",
     "text": [
      "train: \n",
      " TA    1311\n",
      "Gd      65\n",
      "Fa      45\n",
      "Po       2\n",
      "Name: BsmtCond, dtype: int64\n",
      "\n",
      "test: \n",
      " TA    1295\n",
      "Fa      59\n",
      "Gd      57\n",
      "Po       3\n",
      "Name: BsmtCond, dtype: int64\n"
     ]
    }
   ],
   "source": [
    "print(\"train: \\n\",train['BsmtCond'].value_counts())\n",
    "print(\"\\ntest: \\n\", test['BsmtCond'].value_counts())"
   ]
  },
  {
   "cell_type": "code",
   "execution_count": 9,
   "metadata": {},
   "outputs": [
    {
     "name": "stdout",
     "output_type": "stream",
     "text": [
      "NA (no basement) values in train set of BsmtQual: 37\n",
      "NA (no basement) values in test set of BsmtQual : 44\n",
      "******************************************************\n",
      "NA (no basement) values in train set of BsmtCond: 37\n",
      "NA (no basement) values in test set of BsmtCond : 45\n"
     ]
    }
   ],
   "source": [
    "print(\"NA (no basement) values in train set of BsmtQual:\",train['BsmtQual'].isna().sum())\n",
    "print(\"NA (no basement) values in test set of BsmtQual :\",test['BsmtQual'].isna().sum())\n",
    "print(\"******************************************************\")\n",
    "print(\"NA (no basement) values in train set of BsmtCond:\",train['BsmtCond'].isna().sum())\n",
    "print(\"NA (no basement) values in test set of BsmtCond :\",test['BsmtCond'].isna().sum())"
   ]
  },
  {
   "cell_type": "markdown",
   "metadata": {},
   "source": [
    "In train data, columns BsmtQual and BsmtCond both have same number of NA (no basement) values.\n",
    "but, test data have one more NA (no basement) value in BsmtCond column then BsmtQual.\n",
    "\n",
    "In test data...BsmtQual feature says , there are only 44 houses with no basement, and\n",
    "BsmtCond feature says, there are only 45 houses with no basement.\n",
    "\n",
    "So here is the conflict with the data. So we have to resolve this conflict."
   ]
  },
  {
   "cell_type": "markdown",
   "metadata": {},
   "source": [
    "## Let's count the house which have no basement in train & test"
   ]
  },
  {
   "cell_type": "code",
   "execution_count": 10,
   "metadata": {},
   "outputs": [],
   "source": [
    "no_basement_train_cnt = len(train.loc[(train['BsmtCond'].isna()) & (train['BsmtQual'].isna())])\n",
    "no_basement_test_cnt = len(test.loc[(test['BsmtCond'].isna()) & (test['BsmtQual'].isna())])"
   ]
  },
  {
   "cell_type": "code",
   "execution_count": 11,
   "metadata": {},
   "outputs": [
    {
     "name": "stdout",
     "output_type": "stream",
     "text": [
      "The house which have no basement in train :  37\n",
      "The house which have no basement in test  :  42\n"
     ]
    }
   ],
   "source": [
    "print(\"The house which have no basement in train : \",no_basement_train_cnt)\n",
    "print(\"The house which have no basement in test  : \",no_basement_test_cnt)"
   ]
  },
  {
   "cell_type": "markdown",
   "metadata": {},
   "source": [
    "Let's see the house which indicate basement in BsmtCond feature but indicate no basement in BsmtQual feature."
   ]
  },
  {
   "cell_type": "code",
   "execution_count": 12,
   "metadata": {},
   "outputs": [
    {
     "data": {
      "text/html": [
       "<div>\n",
       "<style scoped>\n",
       "    .dataframe tbody tr th:only-of-type {\n",
       "        vertical-align: middle;\n",
       "    }\n",
       "\n",
       "    .dataframe tbody tr th {\n",
       "        vertical-align: top;\n",
       "    }\n",
       "\n",
       "    .dataframe thead th {\n",
       "        text-align: right;\n",
       "    }\n",
       "</style>\n",
       "<table border=\"1\" class=\"dataframe\">\n",
       "  <thead>\n",
       "    <tr style=\"text-align: right;\">\n",
       "      <th></th>\n",
       "      <th>Id</th>\n",
       "      <th>BsmtQual</th>\n",
       "      <th>BsmtCond</th>\n",
       "    </tr>\n",
       "  </thead>\n",
       "  <tbody>\n",
       "    <tr>\n",
       "      <th>757</th>\n",
       "      <td>2218</td>\n",
       "      <td>NaN</td>\n",
       "      <td>Fa</td>\n",
       "    </tr>\n",
       "    <tr>\n",
       "      <th>758</th>\n",
       "      <td>2219</td>\n",
       "      <td>NaN</td>\n",
       "      <td>TA</td>\n",
       "    </tr>\n",
       "  </tbody>\n",
       "</table>\n",
       "</div>"
      ],
      "text/plain": [
       "       Id BsmtQual BsmtCond\n",
       "757  2218      NaN       Fa\n",
       "758  2219      NaN       TA"
      ]
     },
     "execution_count": 12,
     "metadata": {},
     "output_type": "execute_result"
    }
   ],
   "source": [
    "test[['Id','BsmtQual','BsmtCond']].loc[(test['BsmtQual'].isna()) & (~test['BsmtCond'].isna())]"
   ]
  },
  {
   "cell_type": "markdown",
   "metadata": {},
   "source": [
    "Here, there should be some value in BsmtQual column instead of NaN.\n",
    "So, these 2 rows are outlier."
   ]
  },
  {
   "cell_type": "markdown",
   "metadata": {},
   "source": [
    "Let's see the house which indicate basement in BsmtQual feature, but indicate no basement in BsmtCond feature."
   ]
  },
  {
   "cell_type": "code",
   "execution_count": 13,
   "metadata": {},
   "outputs": [
    {
     "data": {
      "text/html": [
       "<div>\n",
       "<style scoped>\n",
       "    .dataframe tbody tr th:only-of-type {\n",
       "        vertical-align: middle;\n",
       "    }\n",
       "\n",
       "    .dataframe tbody tr th {\n",
       "        vertical-align: top;\n",
       "    }\n",
       "\n",
       "    .dataframe thead th {\n",
       "        text-align: right;\n",
       "    }\n",
       "</style>\n",
       "<table border=\"1\" class=\"dataframe\">\n",
       "  <thead>\n",
       "    <tr style=\"text-align: right;\">\n",
       "      <th></th>\n",
       "      <th>Id</th>\n",
       "      <th>BsmtQual</th>\n",
       "      <th>BsmtCond</th>\n",
       "    </tr>\n",
       "  </thead>\n",
       "  <tbody>\n",
       "    <tr>\n",
       "      <th>580</th>\n",
       "      <td>2041</td>\n",
       "      <td>Gd</td>\n",
       "      <td>NaN</td>\n",
       "    </tr>\n",
       "    <tr>\n",
       "      <th>725</th>\n",
       "      <td>2186</td>\n",
       "      <td>TA</td>\n",
       "      <td>NaN</td>\n",
       "    </tr>\n",
       "    <tr>\n",
       "      <th>1064</th>\n",
       "      <td>2525</td>\n",
       "      <td>TA</td>\n",
       "      <td>NaN</td>\n",
       "    </tr>\n",
       "  </tbody>\n",
       "</table>\n",
       "</div>"
      ],
      "text/plain": [
       "        Id BsmtQual BsmtCond\n",
       "580   2041       Gd      NaN\n",
       "725   2186       TA      NaN\n",
       "1064  2525       TA      NaN"
      ]
     },
     "execution_count": 13,
     "metadata": {},
     "output_type": "execute_result"
    }
   ],
   "source": [
    "test[['Id','BsmtQual','BsmtCond']].loc[(test['BsmtCond'].isna()) & (~test['BsmtQual'].isna())]"
   ]
  },
  {
   "cell_type": "markdown",
   "metadata": {},
   "source": [
    "Here, there should be some value in BsmtCond column instead of NaN.\n",
    "So, these three rows are outlier."
   ]
  },
  {
   "cell_type": "markdown",
   "metadata": {},
   "source": [
    "Outlier Fetected!!!\n",
    "\n",
    "Now, Our task is best imputation for these outlier. "
   ]
  },
  {
   "cell_type": "markdown",
   "metadata": {},
   "source": [
    "## Let's check other columns related to basements.\n",
    "## Next Fetaure : BsmtExposure\n"
   ]
  },
  {
   "cell_type": "markdown",
   "metadata": {},
   "source": [
    "BsmtExposure: Refers to walkout or garden level walls\n",
    "\n",
    "       Gd\tGood Exposure\n",
    "       Av\tAverage Exposure (split levels or foyers typically score average or above)\t\n",
    "       Mn\tMimimum Exposure\n",
    "       No\tNo Exposure\n",
    "       NA\tNo Basement"
   ]
  },
  {
   "cell_type": "code",
   "execution_count": 14,
   "metadata": {},
   "outputs": [
    {
     "name": "stdout",
     "output_type": "stream",
     "text": [
      "NA (no basement) values in train set of BsmtExposure: 38\n",
      "NA (no basement) values in test set of BsmtExposure : 44\n"
     ]
    }
   ],
   "source": [
    "print(\"NA (no basement) values in train set of BsmtExposure:\",train['BsmtExposure'].isna().sum())\n",
    "print(\"NA (no basement) values in test set of BsmtExposure :\",test['BsmtExposure'].isna().sum())"
   ]
  },
  {
   "cell_type": "markdown",
   "metadata": {},
   "source": [
    "# Great!! one more outlier detected in train & test"
   ]
  },
  {
   "cell_type": "markdown",
   "metadata": {},
   "source": [
    "Using two feature BsmtQual and BsmtCond in train dataset, we can conclude that there are only 37 houses which have no basement. And there are only 42 houses which have no basement.\n",
    "\n",
    "But, we got one more NA(no basement) value in BsmtExposure feature in train set."
   ]
  },
  {
   "cell_type": "markdown",
   "metadata": {},
   "source": [
    "Let's see the house in train data which indicate basement in BsmtQual and BsmtCond features, but indicate no basement in BsmtExposure feature."
   ]
  },
  {
   "cell_type": "code",
   "execution_count": 15,
   "metadata": {},
   "outputs": [
    {
     "data": {
      "text/html": [
       "<div>\n",
       "<style scoped>\n",
       "    .dataframe tbody tr th:only-of-type {\n",
       "        vertical-align: middle;\n",
       "    }\n",
       "\n",
       "    .dataframe tbody tr th {\n",
       "        vertical-align: top;\n",
       "    }\n",
       "\n",
       "    .dataframe thead th {\n",
       "        text-align: right;\n",
       "    }\n",
       "</style>\n",
       "<table border=\"1\" class=\"dataframe\">\n",
       "  <thead>\n",
       "    <tr style=\"text-align: right;\">\n",
       "      <th></th>\n",
       "      <th>Id</th>\n",
       "      <th>BsmtQual</th>\n",
       "      <th>BsmtCond</th>\n",
       "      <th>BsmtExposure</th>\n",
       "    </tr>\n",
       "  </thead>\n",
       "  <tbody>\n",
       "    <tr>\n",
       "      <th>948</th>\n",
       "      <td>949</td>\n",
       "      <td>Gd</td>\n",
       "      <td>TA</td>\n",
       "      <td>NaN</td>\n",
       "    </tr>\n",
       "  </tbody>\n",
       "</table>\n",
       "</div>"
      ],
      "text/plain": [
       "      Id BsmtQual BsmtCond BsmtExposure\n",
       "948  949       Gd       TA          NaN"
      ]
     },
     "execution_count": 15,
     "metadata": {},
     "output_type": "execute_result"
    }
   ],
   "source": [
    "train[['Id','BsmtQual','BsmtCond','BsmtExposure']].loc[(train['BsmtExposure'].isna()) & (~train['BsmtQual'].isna())]"
   ]
  },
  {
   "cell_type": "markdown",
   "metadata": {},
   "source": [
    "Ooh..It's not possible. \n",
    "what you think this house has basement or not? If it has basement, NaN value not possible for BsmtExposure feature.\n",
    "\n",
    "What's best value you are going to substitute to this outlier?"
   ]
  },
  {
   "cell_type": "markdown",
   "metadata": {},
   "source": [
    "Let's check in test data.. Is their any outlier exist in BsmtExposure feature in testdata?\n",
    "\n",
    "Let's see the house in test data which indicate basement in BsmtQual and BsmtCond features, but indicate no basement in BsmtExposure feature."
   ]
  },
  {
   "cell_type": "code",
   "execution_count": 16,
   "metadata": {},
   "outputs": [
    {
     "data": {
      "text/html": [
       "<div>\n",
       "<style scoped>\n",
       "    .dataframe tbody tr th:only-of-type {\n",
       "        vertical-align: middle;\n",
       "    }\n",
       "\n",
       "    .dataframe tbody tr th {\n",
       "        vertical-align: top;\n",
       "    }\n",
       "\n",
       "    .dataframe thead th {\n",
       "        text-align: right;\n",
       "    }\n",
       "</style>\n",
       "<table border=\"1\" class=\"dataframe\">\n",
       "  <thead>\n",
       "    <tr style=\"text-align: right;\">\n",
       "      <th></th>\n",
       "      <th>Id</th>\n",
       "      <th>BsmtQual</th>\n",
       "      <th>BsmtCond</th>\n",
       "      <th>BsmtExposure</th>\n",
       "    </tr>\n",
       "  </thead>\n",
       "  <tbody>\n",
       "    <tr>\n",
       "      <th>27</th>\n",
       "      <td>1488</td>\n",
       "      <td>Gd</td>\n",
       "      <td>TA</td>\n",
       "      <td>NaN</td>\n",
       "    </tr>\n",
       "    <tr>\n",
       "      <th>888</th>\n",
       "      <td>2349</td>\n",
       "      <td>Gd</td>\n",
       "      <td>TA</td>\n",
       "      <td>NaN</td>\n",
       "    </tr>\n",
       "  </tbody>\n",
       "</table>\n",
       "</div>"
      ],
      "text/plain": [
       "       Id BsmtQual BsmtCond BsmtExposure\n",
       "27   1488       Gd       TA          NaN\n",
       "888  2349       Gd       TA          NaN"
      ]
     },
     "execution_count": 16,
     "metadata": {},
     "output_type": "execute_result"
    }
   ],
   "source": [
    "test[['Id','BsmtQual','BsmtCond','BsmtExposure']].loc[(test['BsmtExposure'].isna()) & (~test['BsmtCond'].isna()) & (~test['BsmtQual'].isna())]"
   ]
  },
  {
   "cell_type": "markdown",
   "metadata": {},
   "source": [
    "Ohh!!\n",
    "two wrong missing value detected in testdata in column BsmtExposure."
   ]
  },
  {
   "cell_type": "markdown",
   "metadata": {},
   "source": [
    "## Next Feature: TotalBsmtSF (Total square feet of basement area)"
   ]
  },
  {
   "cell_type": "markdown",
   "metadata": {},
   "source": [
    "Let's check any missing value present in TotalBsmtSF feature"
   ]
  },
  {
   "cell_type": "code",
   "execution_count": 17,
   "metadata": {
    "scrolled": true
   },
   "outputs": [
    {
     "name": "stdout",
     "output_type": "stream",
     "text": [
      "Missing value in train set of TotalBsmtSF: 0\n",
      "Missing value in test set of TotalBsmtSF : 1\n"
     ]
    }
   ],
   "source": [
    "print(\"Missing value in train set of TotalBsmtSF:\",train['TotalBsmtSF'].isna().sum())\n",
    "print(\"Missing value in test set of TotalBsmtSF :\",test['TotalBsmtSF'].isna().sum())"
   ]
  },
  {
   "cell_type": "markdown",
   "metadata": {},
   "source": [
    "interesting!! one missing value found in test data. Let's find it"
   ]
  },
  {
   "cell_type": "code",
   "execution_count": 18,
   "metadata": {},
   "outputs": [
    {
     "data": {
      "text/html": [
       "<div>\n",
       "<style scoped>\n",
       "    .dataframe tbody tr th:only-of-type {\n",
       "        vertical-align: middle;\n",
       "    }\n",
       "\n",
       "    .dataframe tbody tr th {\n",
       "        vertical-align: top;\n",
       "    }\n",
       "\n",
       "    .dataframe thead th {\n",
       "        text-align: right;\n",
       "    }\n",
       "</style>\n",
       "<table border=\"1\" class=\"dataframe\">\n",
       "  <thead>\n",
       "    <tr style=\"text-align: right;\">\n",
       "      <th></th>\n",
       "      <th>BsmtQual</th>\n",
       "      <th>BsmtCond</th>\n",
       "      <th>BsmtExposure</th>\n",
       "      <th>BsmtFinType1</th>\n",
       "      <th>BsmtFinSF1</th>\n",
       "      <th>BsmtFinType2</th>\n",
       "      <th>BsmtFinSF2</th>\n",
       "      <th>BsmtUnfSF</th>\n",
       "      <th>TotalBsmtSF</th>\n",
       "    </tr>\n",
       "  </thead>\n",
       "  <tbody>\n",
       "    <tr>\n",
       "      <th>660</th>\n",
       "      <td>NaN</td>\n",
       "      <td>NaN</td>\n",
       "      <td>NaN</td>\n",
       "      <td>NaN</td>\n",
       "      <td>NaN</td>\n",
       "      <td>NaN</td>\n",
       "      <td>NaN</td>\n",
       "      <td>NaN</td>\n",
       "      <td>NaN</td>\n",
       "    </tr>\n",
       "  </tbody>\n",
       "</table>\n",
       "</div>"
      ],
      "text/plain": [
       "    BsmtQual BsmtCond BsmtExposure BsmtFinType1  BsmtFinSF1 BsmtFinType2  \\\n",
       "660      NaN      NaN          NaN          NaN         NaN          NaN   \n",
       "\n",
       "     BsmtFinSF2  BsmtUnfSF  TotalBsmtSF  \n",
       "660         NaN        NaN          NaN  "
      ]
     },
     "execution_count": 18,
     "metadata": {},
     "output_type": "execute_result"
    }
   ],
   "source": [
    "test[basement_columns].loc[test['TotalBsmtSF'].isna()]"
   ]
  },
  {
   "cell_type": "markdown",
   "metadata": {},
   "source": [
    "Great.. This house has no basemant as basement related each feature contain null values."
   ]
  },
  {
   "cell_type": "markdown",
   "metadata": {},
   "source": [
    "Let's fill the features of this house with appropriate values"
   ]
  },
  {
   "cell_type": "code",
   "execution_count": 19,
   "metadata": {},
   "outputs": [
    {
     "name": "stderr",
     "output_type": "stream",
     "text": [
      "/home/bhavika/anaconda3/envs/tensorflow/lib/python3.5/site-packages/pandas/core/indexing.py:202: SettingWithCopyWarning: \n",
      "A value is trying to be set on a copy of a slice from a DataFrame\n",
      "\n",
      "See the caveats in the documentation: http://pandas.pydata.org/pandas-docs/stable/user_guide/indexing.html#returning-a-view-versus-a-copy\n",
      "  self._setitem_with_indexer(indexer, value)\n"
     ]
    }
   ],
   "source": [
    "test['BsmtQual'].iloc[660] = 'NA'\n",
    "test['BsmtCond'].iloc[660] = 'NA'\n",
    "test['BsmtExposure'].iloc[660] = 'NA'\n",
    "test['BsmtFinType1'].iloc[660] = 'NA'\n",
    "test['BsmtFinSF1'].iloc[660] = 0\n",
    "test['BsmtFinType2'].iloc[660] = 'NA'\n",
    "test['BsmtFinSF2'].iloc[660] = 0\n",
    "test['BsmtUnfSF'].iloc[660] = 0\n",
    "test['TotalBsmtSF'].iloc[660] =  0"
   ]
  },
  {
   "cell_type": "code",
   "execution_count": 20,
   "metadata": {},
   "outputs": [
    {
     "data": {
      "text/plain": [
       "BsmtQual        NA\n",
       "BsmtCond        NA\n",
       "BsmtExposure    NA\n",
       "BsmtFinType1    NA\n",
       "BsmtFinSF1       0\n",
       "BsmtFinType2    NA\n",
       "BsmtFinSF2       0\n",
       "BsmtUnfSF        0\n",
       "TotalBsmtSF      0\n",
       "Name: 660, dtype: object"
      ]
     },
     "execution_count": 20,
     "metadata": {},
     "output_type": "execute_result"
    }
   ],
   "source": [
    "test[basement_columns].iloc[660]"
   ]
  },
  {
   "cell_type": "markdown",
   "metadata": {},
   "source": [
    "Let's check the houses who have zero basement area.\n",
    "\n",
    "0 basement area ---> means \"no basement\" right?"
   ]
  },
  {
   "cell_type": "code",
   "execution_count": 21,
   "metadata": {},
   "outputs": [
    {
     "name": "stdout",
     "output_type": "stream",
     "text": [
      "No basement in train set of TotalBsmtSF: 37\n",
      "No basement in test set of TotalBsmtSF : 42\n"
     ]
    }
   ],
   "source": [
    "print(\"No basement in train set of TotalBsmtSF:\",(train['TotalBsmtSF']==0).sum())\n",
    "print(\"No basement in test set of TotalBsmtSF :\",(test['TotalBsmtSF']==0).sum())"
   ]
  },
  {
   "cell_type": "markdown",
   "metadata": {},
   "source": [
    "Great.. No Outlier.\n",
    "This feature TotalBsmtSF indicate the same number of houses with no basement."
   ]
  },
  {
   "cell_type": "markdown",
   "metadata": {},
   "source": [
    "# Next Feature: BsmtFinType1  & BsmtFinSF1"
   ]
  },
  {
   "cell_type": "markdown",
   "metadata": {},
   "source": [
    "BsmtFinType1: Rating of basement finished area\n",
    "\n",
    "       GLQ\tGood Living Quarters\n",
    "       ALQ\tAverage Living Quarters\n",
    "       BLQ\tBelow Average Living Quarters\t\n",
    "       Rec\tAverage Rec Room\n",
    "       LwQ\tLow Quality\n",
    "       Unf\tUnfinshed\n",
    "       NA\tNo Basement"
   ]
  },
  {
   "cell_type": "markdown",
   "metadata": {},
   "source": [
    "BsmtFinSF1: Type 1 finished square feet\n",
    "\n",
    "O square feet ---> means no basement-type1 finished area"
   ]
  },
  {
   "cell_type": "code",
   "execution_count": 22,
   "metadata": {},
   "outputs": [
    {
     "name": "stdout",
     "output_type": "stream",
     "text": [
      "NA (no basement-type 1) houses in train set of BsmtFinType1: 37\n",
      "NA (no basement- type1) houses in test set of BsmtFinType1 : 41\n",
      "***************************************************\n",
      "Null values in train set of BsmtFinSF1: 0\n",
      "Null values in test set of BsmtFinSF1 : 0\n",
      "****************************************************\n",
      "no basement-type1 houses in train set of BsmtFinSF1: 467\n",
      "no basement-type1 houses in test set of BsmtFinSF1 : 463\n"
     ]
    }
   ],
   "source": [
    "print(\"NA (no basement-type 1) houses in train set of BsmtFinType1:\",train['BsmtFinType1'].isna().sum())\n",
    "print(\"NA (no basement- type1) houses in test set of BsmtFinType1 :\",test['BsmtFinType1'].isna().sum())\n",
    "print(\"***************************************************\")\n",
    "print(\"Null values in train set of BsmtFinSF1:\",train['BsmtFinSF1'].isna().sum())\n",
    "print(\"Null values in test set of BsmtFinSF1 :\",test['BsmtFinSF1'].isna().sum())\n",
    "print(\"****************************************************\")\n",
    "print(\"no basement-type1 houses in train set of BsmtFinSF1:\", (train['BsmtFinSF1'] == 0).sum())\n",
    "print(\"no basement-type1 houses in test set of BsmtFinSF1 :\",(test['BsmtFinSF1'] == 0).sum())"
   ]
  },
  {
   "cell_type": "markdown",
   "metadata": {},
   "source": [
    "Let's check outlier!!\n",
    "\n",
    "Let's see the houses which doesn't have basement-type1 and have area for basement-type1."
   ]
  },
  {
   "cell_type": "code",
   "execution_count": 23,
   "metadata": {},
   "outputs": [
    {
     "data": {
      "text/html": [
       "<div>\n",
       "<style scoped>\n",
       "    .dataframe tbody tr th:only-of-type {\n",
       "        vertical-align: middle;\n",
       "    }\n",
       "\n",
       "    .dataframe tbody tr th {\n",
       "        vertical-align: top;\n",
       "    }\n",
       "\n",
       "    .dataframe thead th {\n",
       "        text-align: right;\n",
       "    }\n",
       "</style>\n",
       "<table border=\"1\" class=\"dataframe\">\n",
       "  <thead>\n",
       "    <tr style=\"text-align: right;\">\n",
       "      <th></th>\n",
       "      <th>BsmtQual</th>\n",
       "      <th>BsmtCond</th>\n",
       "      <th>BsmtExposure</th>\n",
       "      <th>BsmtFinType1</th>\n",
       "      <th>BsmtFinSF1</th>\n",
       "      <th>BsmtFinType2</th>\n",
       "      <th>BsmtFinSF2</th>\n",
       "      <th>BsmtUnfSF</th>\n",
       "      <th>TotalBsmtSF</th>\n",
       "    </tr>\n",
       "  </thead>\n",
       "  <tbody>\n",
       "  </tbody>\n",
       "</table>\n",
       "</div>"
      ],
      "text/plain": [
       "Empty DataFrame\n",
       "Columns: [BsmtQual, BsmtCond, BsmtExposure, BsmtFinType1, BsmtFinSF1, BsmtFinType2, BsmtFinSF2, BsmtUnfSF, TotalBsmtSF]\n",
       "Index: []"
      ]
     },
     "execution_count": 23,
     "metadata": {},
     "output_type": "execute_result"
    }
   ],
   "source": [
    "train[basement_columns].loc[(train['BsmtFinType1'].isna()) & (train['BsmtFinSF1']!=0)]"
   ]
  },
  {
   "cell_type": "markdown",
   "metadata": {},
   "source": [
    "No Outlier.."
   ]
  },
  {
   "cell_type": "markdown",
   "metadata": {},
   "source": [
    "# Next Feature : BsmtFinType2 & BsmtFinSF2"
   ]
  },
  {
   "cell_type": "markdown",
   "metadata": {},
   "source": [
    "BsmtFinType2: Rating of basement finished area (if multiple types)\n",
    "\n",
    "       GLQ\tGood Living Quarters\n",
    "       ALQ\tAverage Living Quarters\n",
    "       BLQ\tBelow Average Living Quarters\t\n",
    "       Rec\tAverage Rec Room\n",
    "       LwQ\tLow Quality\n",
    "       Unf\tUnfinshed\n",
    "       NA\tNo Basement"
   ]
  },
  {
   "cell_type": "markdown",
   "metadata": {},
   "source": [
    "BsmtFinSF2: Type 2 finished square feet\n",
    "\n",
    "O square feet ---> means no basement-type2 finished area"
   ]
  },
  {
   "cell_type": "code",
   "execution_count": 24,
   "metadata": {},
   "outputs": [
    {
     "name": "stdout",
     "output_type": "stream",
     "text": [
      "NA (no basement - type2) houses in train set of BsmtFinType2: 38\n",
      "NA (no basement -type2) houses in test set of BsmtFinType2 : 41\n",
      "***************************************************\n",
      "Null values in train set of BsmtFinSF2: 0\n",
      "Null values in test set of BsmtFinSF2 : 0\n",
      "****************************************************\n",
      "no basement-type2 houses in train set of BsmtFinSF2: 1293\n",
      "no basement-type2 houses in test set of BsmtFinSF2 : 1279\n"
     ]
    }
   ],
   "source": [
    "print(\"NA (no basement - type2) houses in train set of BsmtFinType2:\",train['BsmtFinType2'].isna().sum())\n",
    "print(\"NA (no basement -type2) houses in test set of BsmtFinType2 :\",test['BsmtFinType2'].isna().sum())\n",
    "print(\"***************************************************\")\n",
    "print(\"Null values in train set of BsmtFinSF2:\",train['BsmtFinSF2'].isna().sum())\n",
    "print(\"Null values in test set of BsmtFinSF2 :\",test['BsmtFinSF2'].isna().sum())\n",
    "print(\"****************************************************\")\n",
    "print(\"no basement-type2 houses in train set of BsmtFinSF2:\", (train['BsmtFinSF2'] == 0).sum())\n",
    "print(\"no basement-type2 houses in test set of BsmtFinSF2 :\",(test['BsmtFinSF2'] == 0).sum())"
   ]
  },
  {
   "cell_type": "markdown",
   "metadata": {},
   "source": [
    "Let's check outlier!!\n",
    "\n",
    "Let's see the houses which doesn't have basement-type2 and have area for basement-type2.\n"
   ]
  },
  {
   "cell_type": "code",
   "execution_count": 25,
   "metadata": {},
   "outputs": [
    {
     "data": {
      "text/html": [
       "<div>\n",
       "<style scoped>\n",
       "    .dataframe tbody tr th:only-of-type {\n",
       "        vertical-align: middle;\n",
       "    }\n",
       "\n",
       "    .dataframe tbody tr th {\n",
       "        vertical-align: top;\n",
       "    }\n",
       "\n",
       "    .dataframe thead th {\n",
       "        text-align: right;\n",
       "    }\n",
       "</style>\n",
       "<table border=\"1\" class=\"dataframe\">\n",
       "  <thead>\n",
       "    <tr style=\"text-align: right;\">\n",
       "      <th></th>\n",
       "      <th>BsmtQual</th>\n",
       "      <th>BsmtCond</th>\n",
       "      <th>BsmtExposure</th>\n",
       "      <th>BsmtFinType1</th>\n",
       "      <th>BsmtFinSF1</th>\n",
       "      <th>BsmtFinType2</th>\n",
       "      <th>BsmtFinSF2</th>\n",
       "      <th>BsmtUnfSF</th>\n",
       "      <th>TotalBsmtSF</th>\n",
       "    </tr>\n",
       "  </thead>\n",
       "  <tbody>\n",
       "    <tr>\n",
       "      <th>332</th>\n",
       "      <td>Gd</td>\n",
       "      <td>TA</td>\n",
       "      <td>No</td>\n",
       "      <td>GLQ</td>\n",
       "      <td>1124</td>\n",
       "      <td>NaN</td>\n",
       "      <td>479</td>\n",
       "      <td>1603</td>\n",
       "      <td>3206</td>\n",
       "    </tr>\n",
       "  </tbody>\n",
       "</table>\n",
       "</div>"
      ],
      "text/plain": [
       "    BsmtQual BsmtCond BsmtExposure BsmtFinType1  BsmtFinSF1 BsmtFinType2  \\\n",
       "332       Gd       TA           No          GLQ        1124          NaN   \n",
       "\n",
       "     BsmtFinSF2  BsmtUnfSF  TotalBsmtSF  \n",
       "332         479       1603         3206  "
      ]
     },
     "execution_count": 25,
     "metadata": {},
     "output_type": "execute_result"
    }
   ],
   "source": [
    "train[basement_columns].loc[(train['BsmtFinType2'].isna()) & (train['BsmtFinSF2']!=0)]"
   ]
  },
  {
   "cell_type": "markdown",
   "metadata": {},
   "source": [
    "Above result show that, \n",
    "this house has NaN value in BsmtFinType2 feature however BsmtFinSF2(type2 finished area) has 479 sq.ft area.\n",
    "\n",
    "So, it's Outlier."
   ]
  },
  {
   "cell_type": "markdown",
   "metadata": {},
   "source": [
    "# Next Feature BsmtUnfSF: Unfinished square feet of basement area"
   ]
  },
  {
   "cell_type": "code",
   "execution_count": 26,
   "metadata": {},
   "outputs": [
    {
     "name": "stdout",
     "output_type": "stream",
     "text": [
      "Null values in train set of BsmtUnfSF: 0\n",
      "Null values in test set of BsmtUnfSF : 0\n",
      "****************************************************\n",
      "No unfinished basement houses in train set of BsmtUnfSF: 118\n",
      "No unfinished basement houses in test set of BsmtUnfSF : 124\n"
     ]
    }
   ],
   "source": [
    "print(\"Null values in train set of BsmtUnfSF:\",train['BsmtUnfSF'].isna().sum())\n",
    "print(\"Null values in test set of BsmtUnfSF :\",test['BsmtUnfSF'].isna().sum())\n",
    "print(\"****************************************************\")\n",
    "print(\"No unfinished basement houses in train set of BsmtUnfSF:\", (train['BsmtUnfSF'] == 0).sum())\n",
    "print(\"No unfinished basement houses in test set of BsmtUnfSF :\",(test['BsmtUnfSF'] == 0).sum())"
   ]
  },
  {
   "cell_type": "markdown",
   "metadata": {},
   "source": [
    "No helpful information found!!"
   ]
  },
  {
   "cell_type": "code",
   "execution_count": null,
   "metadata": {},
   "outputs": [],
   "source": []
  }
 ],
 "metadata": {
  "kernelspec": {
   "display_name": "Python 3",
   "language": "python",
   "name": "python3"
  },
  "language_info": {
   "codemirror_mode": {
    "name": "ipython",
    "version": 3
   },
   "file_extension": ".py",
   "mimetype": "text/x-python",
   "name": "python",
   "nbconvert_exporter": "python",
   "pygments_lexer": "ipython3",
   "version": "3.5.5"
  }
 },
 "nbformat": 4,
 "nbformat_minor": 2
}
